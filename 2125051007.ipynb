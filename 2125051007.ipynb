{
  "nbformat": 4,
  "nbformat_minor": 0,
  "metadata": {
    "colab": {
      "provenance": []
    },
    "kernelspec": {
      "name": "python3",
      "display_name": "Python 3"
    },
    "language_info": {
      "name": "python"
    }
  },
  "cells": [
    {
      "cell_type": "code",
      "execution_count": 1,
      "metadata": {
        "colab": {
          "base_uri": "https://localhost:8080/"
        },
        "id": "vvWN_5eVwlMe",
        "outputId": "85ef39bd-b771-48ab-e2f2-a7d7f9c2dd9c"
      },
      "outputs": [
        {
          "output_type": "stream",
          "name": "stdout",
          "text": [
            "Mounted at /content/drive\n"
          ]
        }
      ],
      "source": [
        "from google.colab import drive\n",
        "drive.mount('/content/drive')"
      ]
    },
    {
      "cell_type": "markdown",
      "source": [
        "Conventional Approach"
      ],
      "metadata": {
        "id": "At7tcS4Qw3St"
      }
    },
    {
      "cell_type": "code",
      "source": [
        "import os\n",
        "import cv2\n",
        "import numpy as np\n",
        "from sklearn.model_selection import train_test_split\n",
        "from sklearn.svm import SVC\n",
        "from sklearn.metrics import classification_report, accuracy_score\n",
        "from skimage.feature import hog\n",
        "\n",
        "# Path to dataset\n",
        "data_dir = '/content/drive/MyDrive/ML LAb PRoject/Dataset'\n",
        "\n",
        "# Function to load dataset\n",
        "def load_dataset(data_dir):\n",
        "    labels = []\n",
        "    images = []\n",
        "    class_names = os.listdir(data_dir)\n",
        "    for label, class_name in enumerate(class_names):\n",
        "        class_dir = os.path.join(data_dir, class_name)\n",
        "        for file in os.listdir(class_dir):\n",
        "            img_path = os.path.join(class_dir, file)\n",
        "            # Ensure only image files are processed\n",
        "            if file.lower().endswith(('.png', '.jpg', '.jpeg')):\n",
        "                img = cv2.imread(img_path, cv2.IMREAD_COLOR)\n",
        "                if img is not None:  # Ensure valid images\n",
        "                    img = cv2.resize(img, (64, 64))\n",
        "                    images.append(img)\n",
        "                    labels.append(label)\n",
        "    return np.array(images), np.array(labels), class_names\n",
        "\n",
        "# Function for feature extraction using HOG\n",
        "def extract_features(images):\n",
        "    features = []\n",
        "    for img in images:\n",
        "        gray = cv2.cvtColor(img, cv2.COLOR_BGR2GRAY)  # Convert to grayscale\n",
        "        hog_features = hog(gray,\n",
        "                           orientations=9,\n",
        "                           pixels_per_cell=(8, 8),\n",
        "                           cells_per_block=(2, 2),\n",
        "                           block_norm='L2-Hys')\n",
        "        features.append(hog_features)\n",
        "    return np.array(features)\n",
        "\n",
        "\n",
        "\n",
        "# Load the dataset\n",
        "images, labels, class_names = load_dataset(data_dir)\n",
        "print(f\"Loaded {len(images)} images across {len(class_names)} classes: {class_names}\")\n",
        "\n",
        "# Extract HOG features\n",
        "features = extract_features(images)\n",
        "\n",
        "# Split dataset into training and testing sets\n",
        "X_train, X_test, y_train, y_test = train_test_split(features, labels, test_size=0.2, random_state=42)\n",
        "\n",
        "# Train SVM classifier\n",
        "classifier = SVC(kernel='linear', C=1.0, random_state=42)\n",
        "classifier.fit(X_train, y_train)\n",
        "\n",
        "# Evaluate the model\n",
        "y_pred = classifier.predict(X_test)\n",
        "print(\"Accuracy:\", accuracy_score(y_test, y_pred))\n",
        "print(classification_report(y_test, y_pred, target_names=class_names))"
      ],
      "metadata": {
        "colab": {
          "base_uri": "https://localhost:8080/"
        },
        "id": "tcqZK662wr-k",
        "outputId": "061f0f12-fdcb-49b7-d3a3-52baed32b699"
      },
      "execution_count": 2,
      "outputs": [
        {
          "output_type": "stream",
          "name": "stdout",
          "text": [
            "Loaded 400 images across 4 classes: ['Truck', 'motorcycle', 'Bus', 'Car']\n",
            "Accuracy: 0.6875\n",
            "              precision    recall  f1-score   support\n",
            "\n",
            "       Truck       0.67      0.54      0.60        26\n",
            "  motorcycle       0.78      1.00      0.88        18\n",
            "         Bus       0.54      0.78      0.64        18\n",
            "         Car       0.90      0.50      0.64        18\n",
            "\n",
            "    accuracy                           0.69        80\n",
            "   macro avg       0.72      0.70      0.69        80\n",
            "weighted avg       0.72      0.69      0.68        80\n",
            "\n"
          ]
        }
      ]
    },
    {
      "cell_type": "markdown",
      "source": [
        "CNN Approach"
      ],
      "metadata": {
        "id": "TPPM3BSjxKjP"
      }
    },
    {
      "cell_type": "code",
      "source": [
        "import os\n",
        "import numpy as np\n",
        "import tensorflow as tf\n",
        "from tensorflow.keras.models import Sequential\n",
        "from tensorflow.keras.layers import Conv2D, MaxPooling2D, Flatten, Dense\n",
        "from tensorflow.keras.utils import to_categorical\n",
        "from tensorflow.keras.preprocessing.image import ImageDataGenerator\n",
        "from sklearn.model_selection import train_test_split\n",
        "\n",
        "# Load dataset\n",
        "data_dir = '/content/drive/MyDrive/ML LAb PRoject/Dataset'\n",
        "\n",
        "# Load dataset\n",
        "def load_dataset(data_dir):\n",
        "    labels = []\n",
        "    images = []\n",
        "    class_names = os.listdir(data_dir)\n",
        "    for label, class_name in enumerate(class_names):\n",
        "        class_dir = os.path.join(data_dir, class_name)\n",
        "        # Iterate through files within the class directory\n",
        "        for file in os.listdir(class_dir):\n",
        "            # Construct the full image path\n",
        "            img_path = os.path.join(class_dir, file)\n",
        "            # Check if it's a file and not a directory before loading\n",
        "            if os.path.isfile(img_path) and file.lower().endswith(('.png', '.jpg', '.jpeg')):\n",
        "                img = tf.keras.preprocessing.image.load_img(img_path, target_size=(64, 64))\n",
        "                img = tf.keras.preprocessing.image.img_to_array(img)\n",
        "                images.append(img)\n",
        "                labels.append(label)\n",
        "    return np.array(images), np.array(labels), class_names\n",
        "\n",
        "\n",
        "images, labels, class_names = load_dataset(data_dir)\n",
        "\n",
        "# Normalize images\n",
        "images = images / 255.0\n",
        "\n",
        "# One-hot encode labels\n",
        "labels = to_categorical(labels, num_classes=len(class_names))\n",
        "\n",
        "# Split dataset\n",
        "X_train, X_test, y_train, y_test = train_test_split(images, labels, test_size=0.2, random_state=42)\n",
        "\n",
        "# Define CNN model\n",
        "model = Sequential([\n",
        "    Conv2D(32, (3, 3), activation='relu', input_shape=(64, 64, 3)),\n",
        "    MaxPooling2D((2, 2)),\n",
        "    Conv2D(64, (3, 3), activation='relu'),\n",
        "    MaxPooling2D((2, 2)),\n",
        "    Flatten(),\n",
        "    Dense(128, activation='relu'),\n",
        "    Dense(len(class_names), activation='softmax')\n",
        "])\n",
        "\n",
        "# Compile model\n",
        "model.compile(optimizer='adam', loss='categorical_crossentropy', metrics=['accuracy'])\n",
        "\n",
        "# Train model\n",
        "model.fit(X_train, y_train, epochs=10, batch_size=32, validation_split=0.2)\n",
        "\n",
        "# Evaluate model\n",
        "test_loss, test_accuracy = model.evaluate(X_test, y_test)\n",
        "print(f\"Test Accuracy: {test_accuracy:.2f}\")"
      ],
      "metadata": {
        "colab": {
          "base_uri": "https://localhost:8080/"
        },
        "id": "0WFlr5iTxHu5",
        "outputId": "48a75ec7-d5f3-4502-c41a-40dcadccccc5"
      },
      "execution_count": 3,
      "outputs": [
        {
          "output_type": "stream",
          "name": "stderr",
          "text": [
            "/usr/local/lib/python3.10/dist-packages/PIL/Image.py:1054: UserWarning: Palette images with Transparency expressed in bytes should be converted to RGBA images\n",
            "  warnings.warn(\n"
          ]
        },
        {
          "output_type": "stream",
          "name": "stdout",
          "text": [
            "Epoch 1/10\n"
          ]
        },
        {
          "output_type": "stream",
          "name": "stderr",
          "text": [
            "/usr/local/lib/python3.10/dist-packages/keras/src/layers/convolutional/base_conv.py:107: UserWarning: Do not pass an `input_shape`/`input_dim` argument to a layer. When using Sequential models, prefer using an `Input(shape)` object as the first layer in the model instead.\n",
            "  super().__init__(activity_regularizer=activity_regularizer, **kwargs)\n"
          ]
        },
        {
          "output_type": "stream",
          "name": "stdout",
          "text": [
            "\u001b[1m8/8\u001b[0m \u001b[32m━━━━━━━━━━━━━━━━━━━━\u001b[0m\u001b[37m\u001b[0m \u001b[1m3s\u001b[0m 203ms/step - accuracy: 0.2661 - loss: 1.9226 - val_accuracy: 0.3438 - val_loss: 1.3683\n",
            "Epoch 2/10\n",
            "\u001b[1m8/8\u001b[0m \u001b[32m━━━━━━━━━━━━━━━━━━━━\u001b[0m\u001b[37m\u001b[0m \u001b[1m2s\u001b[0m 177ms/step - accuracy: 0.3739 - loss: 1.3616 - val_accuracy: 0.3438 - val_loss: 1.3395\n",
            "Epoch 3/10\n",
            "\u001b[1m8/8\u001b[0m \u001b[32m━━━━━━━━━━━━━━━━━━━━\u001b[0m\u001b[37m\u001b[0m \u001b[1m3s\u001b[0m 176ms/step - accuracy: 0.3977 - loss: 1.2754 - val_accuracy: 0.3438 - val_loss: 1.2418\n",
            "Epoch 4/10\n",
            "\u001b[1m8/8\u001b[0m \u001b[32m━━━━━━━━━━━━━━━━━━━━\u001b[0m\u001b[37m\u001b[0m \u001b[1m3s\u001b[0m 372ms/step - accuracy: 0.5177 - loss: 1.0655 - val_accuracy: 0.5938 - val_loss: 1.0832\n",
            "Epoch 5/10\n",
            "\u001b[1m8/8\u001b[0m \u001b[32m━━━━━━━━━━━━━━━━━━━━\u001b[0m\u001b[37m\u001b[0m \u001b[1m6s\u001b[0m 451ms/step - accuracy: 0.7075 - loss: 0.8653 - val_accuracy: 0.5000 - val_loss: 1.0360\n",
            "Epoch 6/10\n",
            "\u001b[1m8/8\u001b[0m \u001b[32m━━━━━━━━━━━━━━━━━━━━\u001b[0m\u001b[37m\u001b[0m \u001b[1m3s\u001b[0m 177ms/step - accuracy: 0.7290 - loss: 0.7211 - val_accuracy: 0.6250 - val_loss: 0.8500\n",
            "Epoch 7/10\n",
            "\u001b[1m8/8\u001b[0m \u001b[32m━━━━━━━━━━━━━━━━━━━━\u001b[0m\u001b[37m\u001b[0m \u001b[1m1s\u001b[0m 175ms/step - accuracy: 0.8278 - loss: 0.5490 - val_accuracy: 0.6875 - val_loss: 0.8042\n",
            "Epoch 8/10\n",
            "\u001b[1m8/8\u001b[0m \u001b[32m━━━━━━━━━━━━━━━━━━━━\u001b[0m\u001b[37m\u001b[0m \u001b[1m3s\u001b[0m 184ms/step - accuracy: 0.9112 - loss: 0.3712 - val_accuracy: 0.5781 - val_loss: 0.9686\n",
            "Epoch 9/10\n",
            "\u001b[1m8/8\u001b[0m \u001b[32m━━━━━━━━━━━━━━━━━━━━\u001b[0m\u001b[37m\u001b[0m \u001b[1m1s\u001b[0m 176ms/step - accuracy: 0.9039 - loss: 0.3291 - val_accuracy: 0.5312 - val_loss: 1.1061\n",
            "Epoch 10/10\n",
            "\u001b[1m8/8\u001b[0m \u001b[32m━━━━━━━━━━━━━━━━━━━━\u001b[0m\u001b[37m\u001b[0m \u001b[1m2s\u001b[0m 264ms/step - accuracy: 0.9127 - loss: 0.3155 - val_accuracy: 0.6406 - val_loss: 0.9185\n",
            "\u001b[1m3/3\u001b[0m \u001b[32m━━━━━━━━━━━━━━━━━━━━\u001b[0m\u001b[37m\u001b[0m \u001b[1m0s\u001b[0m 65ms/step - accuracy: 0.5242 - loss: 1.2159\n",
            "Test Accuracy: 0.52\n"
          ]
        }
      ]
    }
  ]
}